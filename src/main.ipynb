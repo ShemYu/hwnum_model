{
 "cells": [
  {
   "cell_type": "code",
   "execution_count": 1,
   "metadata": {},
   "outputs": [
    {
     "name": "stderr",
     "output_type": "stream",
     "text": [
      "/opt/homebrew/anaconda3/envs/hm/lib/python3.10/site-packages/torchvision/datasets/mnist.py:75: UserWarning: train_data has been renamed data\n",
      "  warnings.warn(\"train_data has been renamed data\")\n",
      "/opt/homebrew/anaconda3/envs/hm/lib/python3.10/site-packages/torchvision/datasets/mnist.py:65: UserWarning: train_labels has been renamed targets\n",
      "  warnings.warn(\"train_labels has been renamed targets\")\n"
     ]
    },
    {
     "data": {
      "image/png": "[encoded data removed]",
      "text/plain": [
       "<Figure size 432x288 with 1 Axes>"
      ]
     },
     "metadata": {
      "needs_background": "light"
     },
     "output_type": "display_data"
    },
    {
     "data": {
      "text/plain": [
       "torch.Size([60000, 28, 28])"
      ]
     },
     "execution_count": 1,
     "metadata": {},
     "output_type": "execute_result"
    }
   ],
   "source": [
    "from pathlib import Path\n",
    "from utils.dataset import MnistHandWroteNumber\n",
    "\n",
    "training_datas, size = MnistHandWroteNumber.download(Path(\"./data/\"))\n",
    "size"
   ]
  },
  {
   "cell_type": "code",
   "execution_count": 2,
   "metadata": {},
   "outputs": [
    {
     "data": {
      "image/png": "[encoded data removed]",
      "text/plain": [
       "<Figure size 432x288 with 1 Axes>"
      ]
     },
     "metadata": {
      "needs_background": "light"
     },
     "output_type": "display_data"
    },
    {
     "data": {
      "text/plain": [
       "torch.Size([10000, 28, 28])"
      ]
     },
     "execution_count": 2,
     "metadata": {},
     "output_type": "execute_result"
    }
   ],
   "source": [
    "test_datas, size = MnistHandWroteNumber.download(Path(\"./data/\"), train=False)\n",
    "size"
   ]
  },
  {
   "cell_type": "code",
   "execution_count": 3,
   "metadata": {},
   "outputs": [
    {
     "data": {
      "text/plain": [
       "CNN(\n",
       "  (conv1): Sequential(\n",
       "    (0): Conv2d(1, 16, kernel_size=(5, 5), stride=(1, 1), padding=(2, 2))\n",
       "    (1): ReLU()\n",
       "    (2): MaxPool2d(kernel_size=2, stride=2, padding=0, dilation=1, ceil_mode=False)\n",
       "  )\n",
       "  (conv2): Sequential(\n",
       "    (0): Conv2d(16, 32, kernel_size=(5, 5), stride=(1, 1), padding=(2, 2))\n",
       "    (1): ReLU()\n",
       "    (2): MaxPool2d(kernel_size=2, stride=2, padding=0, dilation=1, ceil_mode=False)\n",
       "  )\n",
       "  (out): Linear(in_features=1568, out_features=10, bias=True)\n",
       ")"
      ]
     },
     "execution_count": 3,
     "metadata": {},
     "output_type": "execute_result"
    }
   ],
   "source": [
    "from base.classifier import CNN, training\n",
    "\n",
    "\n",
    "cnn = CNN()\n",
    "cnn"
   ]
  },
  {
   "cell_type": "code",
   "execution_count": 4,
   "metadata": {},
   "outputs": [
    {
     "name": "stderr",
     "output_type": "stream",
     "text": [
      "/opt/homebrew/anaconda3/envs/hm/lib/python3.10/site-packages/torchvision/datasets/mnist.py:80: UserWarning: test_data has been renamed data\n",
      "  warnings.warn(\"test_data has been renamed data\")\n",
      "/Users/shemyu/Documents/programing/hwnum_model/src/base/classifier.py:46: UserWarning: volatile was removed and now has no effect. Use `with torch.no_grad():` instead.\n",
      "  Variable(torch.unsqueeze(test_datas.test_data, dim=1), volatile=True).type(\n",
      "/opt/homebrew/anaconda3/envs/hm/lib/python3.10/site-packages/torchvision/datasets/mnist.py:70: UserWarning: test_labels has been renamed targets\n",
      "  warnings.warn(\"test_labels has been renamed targets\")\n"
     ]
    },
    {
     "name": "stdout",
     "output_type": "stream",
     "text": [
      "Epoch:  0 | train loss: 2.3051 | test accuracy: 0.13\n",
      "Epoch:  0 | train loss: 0.6456 | test accuracy: 0.80\n",
      "Epoch:  0 | train loss: 0.3370 | test accuracy: 0.88\n",
      "Epoch:  0 | train loss: 0.2767 | test accuracy: 0.91\n",
      "Epoch:  0 | train loss: 0.1396 | test accuracy: 0.94\n",
      "Epoch:  0 | train loss: 0.1254 | test accuracy: 0.94\n",
      "Epoch:  0 | train loss: 0.2095 | test accuracy: 0.95\n",
      "Epoch:  0 | train loss: 0.0740 | test accuracy: 0.95\n",
      "Epoch:  0 | train loss: 0.1881 | test accuracy: 0.95\n",
      "Epoch:  0 | train loss: 0.0973 | test accuracy: 0.96\n",
      "Epoch:  0 | train loss: 0.0707 | test accuracy: 0.96\n",
      "Epoch:  0 | train loss: 0.0635 | test accuracy: 0.96\n",
      "Epoch:  0 | train loss: 0.0390 | test accuracy: 0.97\n",
      "Epoch:  0 | train loss: 0.2678 | test accuracy: 0.96\n",
      "Epoch:  0 | train loss: 0.1337 | test accuracy: 0.96\n",
      "Epoch:  0 | train loss: 0.0163 | test accuracy: 0.97\n",
      "Epoch:  0 | train loss: 0.1022 | test accuracy: 0.97\n",
      "Epoch:  0 | train loss: 0.0486 | test accuracy: 0.98\n",
      "Epoch:  0 | train loss: 0.0326 | test accuracy: 0.97\n",
      "Epoch:  0 | train loss: 0.0996 | test accuracy: 0.98\n",
      "Epoch:  0 | train loss: 0.0041 | test accuracy: 0.97\n",
      "Epoch:  0 | train loss: 0.0611 | test accuracy: 0.97\n",
      "Epoch:  0 | train loss: 0.0806 | test accuracy: 0.97\n",
      "Epoch:  0 | train loss: 0.0453 | test accuracy: 0.98\n"
     ]
    }
   ],
   "source": [
    "training(cnn, training_datas, test_datas)"
   ]
  },
  {
   "cell_type": "code",
   "execution_count": 7,
   "metadata": {},
   "outputs": [
    {
     "name": "stdout",
     "output_type": "stream",
     "text": [
      "[7 2 1 0 4 1 4 9 5 9]\n",
      "tensor([7, 2, 1, 0, 4, 1, 4, 9, 5, 9])\n"
     ]
    },
    {
     "name": "stderr",
     "output_type": "stream",
     "text": [
      "/var/folders/l9/f8z7rln10csfw2nb2hqgxbrm0000gn/T/ipykernel_24240/827314457.py:5: UserWarning: volatile was removed and now has no effect. Use `with torch.no_grad():` instead.\n",
      "  Variable(torch.unsqueeze(test_datas.test_data, dim=1), volatile=True).type(\n"
     ]
    }
   ],
   "source": [
    "import torch\n",
    "from torch.autograd import Variable\n",
    "\n",
    "test_x = (\n",
    "        Variable(torch.unsqueeze(test_datas.test_data, dim=1), volatile=True).type(\n",
    "            torch.FloatTensor\n",
    "        )[:2000]\n",
    "        / 255.0\n",
    "    )  # shape from (2000, 28, 28) to (2000, 1, 28, 28), value in range(0,1)\n",
    "test_y = test_datas.test_labels[:2000]\n",
    "test_output, _ = cnn(test_x[:10])\n",
    "pred_y = torch.max(test_output, 1)[1].data.numpy().squeeze()\n",
    "print(pred_y)\n",
    "print(test_y[:10])"
   ]
  },
  {
   "cell_type": "code",
   "execution_count": null,
   "metadata": {},
   "outputs": [],
   "source": []
  },
  {
   "cell_type": "code",
   "execution_count": null,
   "metadata": {},
   "outputs": [],
   "source": []
  },
  {
   "cell_type": "code",
   "execution_count": null,
   "metadata": {},
   "outputs": [],
   "source": []
  }
 ],
 "metadata": {
  "kernelspec": {
   "display_name": "Python 3.10.4 ('hm')",
   "language": "python",
   "name": "python3"
  },
  "language_info": {
   "codemirror_mode": {
    "name": "ipython",
    "version": 3
   },
   "file_extension": ".py",
   "mimetype": "text/x-python",
   "name": "python",
   "nbconvert_exporter": "python",
   "pygments_lexer": "ipython3",
   "version": "3.10.4"
  },
  "orig_nbformat": 4,
  "vscode": {
   "interpreter": {
    "hash": "483eaa467638e6384f931b8cb8d28112a3ed0444dae932d12fbf33f2c76ad50c"
   }
  }
 },
 "nbformat": 4,
 "nbformat_minor": 2
}
